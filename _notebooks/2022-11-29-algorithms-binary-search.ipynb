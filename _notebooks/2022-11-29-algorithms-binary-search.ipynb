{
 "cells": [
  {
   "cell_type": "markdown",
   "metadata": {},
   "source": [
    "# Unit 3 Sections 9 and 11\n",
    "> 3.9 and 3.11 lesson\n",
    "\n",
    "- toc: true \n",
    "- badges: true\n",
    "- comments: true\n"
   ]
  },
  {
   "cell_type": "markdown",
   "metadata": {},
   "source": [
    "# 3.9 Developing algorithms\n",
    "\n",
    "* Algorithms that look similar can produce different outputs\n",
    "\n",
    "Example: (note: this is currently in the wrong language, change this to Python and add it in a Python cell)\n",
    "\n",
    "```\n",
    "if (num > 7) {\n",
    "\tprint “num is greater than 7”\n",
    "} else if (num > 5) {\n",
    "\tprint “num is greater than 5”\n",
    "} else {\n",
    "\tprint “num is less than 5”\n",
    "}\n",
    "```\n",
    "\n",
    "is different from\n",
    "\n",
    "```\n",
    "if (num > 7) {\n",
    "\tprint “num is greater than 7”\n",
    "} \n",
    "if (num > 5) {\n",
    "\tprint “num is greater than 5”\n",
    "}\n",
    "if (num < 5) {\n",
    "\tprint “num is less than 5”\n",
    "}\n",
    "```\n",
    "\n",
    "\n",
    "For example, if we use `num = 8`, the first example would output: ` num is greater than 7` while the second example would output: \n",
    "\n",
    "```\n",
    "num is greater than 7\n",
    "num is greater than 5\n",
    "```\n",
    "\n"
   ]
  },
  {
   "cell_type": "markdown",
   "metadata": {},
   "source": [
    "<br>\n",
    "\n",
    "Conditionals can be written as booleans:\n",
    "\n",
    "```\n",
    "if (rainy == true) {\n",
    "\tumbrella = true\n",
    "}\n",
    "```\n",
    "\n",
    "is the same as: umbrella = rainy\n"
   ]
  },
  {
   "cell_type": "markdown",
   "metadata": {},
   "source": [
    "# 3.11 Binary Search\n",
    "\n",
    "* Binary search only works if data is in ascending/descending order\n",
    "* Start in the middle ((n+1)/2) and compare with your value, then repeat the process on the data to the left and right of the middle value\n",
    "* Binary search also works on a list of words in alphabetical order\n",
    "* Applies to programming because you can search based on the index of a list\n",
    "* More efficient than sequential searching (ie starting at index 0, then 1, 2, etc.)\n"
   ]
  }
 ],
 "metadata": {
  "kernelspec": {
   "display_name": "Python 3.8.10 64-bit",
   "language": "python",
   "name": "python3"
  },
  "language_info": {
   "name": "python",
   "version": "3.8.10"
  },
  "orig_nbformat": 4,
  "vscode": {
   "interpreter": {
    "hash": "916dbcbb3f70747c44a77c7bcd40155683ae19c65e1c03b4aa3499c5328201f1"
   }
  }
 },
 "nbformat": 4,
 "nbformat_minor": 2
}
