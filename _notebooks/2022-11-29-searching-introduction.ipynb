{
 "cells": [
  {
   "cell_type": "markdown",
   "metadata": {},
   "source": [
    "# Searching Introduction\n",
    "> Introduction to the binary search algorithm, it's uses, advantages, and disadvantages\n",
    "- toc: true \n",
    "- badges: true\n",
    "- comments: true"
   ]
  },
  {
   "cell_type": "markdown",
   "metadata": {},
   "source": [
    "## What is searching?\n",
    "In certain computer programs and applications, one might find the need to locate and retrieve a data value and/or it's index. Searching algorithms could be done in either intervals or sequences, and certain algorithms could be more efficient than others, with benefits and drawbacks to each.\n",
    "\n"
   ]
  },
  {
   "cell_type": "markdown",
   "metadata": {},
   "source": [
    "## The Naive Approach\n",
    "The most intuitively obvious solution to the searching problem is to sequentialy check each successful value in the data structure until either a matching value is found, or the entire structure has been transversed. This thought process could be explained graphically in this example\n",
    "\n",
    "![BinarySearch1.png]({{site.baseurl}}/images/BinarySearch1.png \"https://github.com/dolphinalt/SEAL_Fastpages\")"
   ]
  },
  {
   "cell_type": "markdown",
   "metadata": {},
   "source": [
    "This algorithm could also be expressed in code, as shown below."
   ]
  },
  {
   "cell_type": "code",
   "execution_count": 6,
   "metadata": {},
   "outputs": [],
   "source": [
    "def sequentialSearch(arr, target):\n",
    "    N = len(arr)                     # Declare N as length of array\n",
    "    for i in range(N):               # Iterate over the list\n",
    "        if arr[i] == target:         # Check for match\n",
    "            return i                 # Match found, return index and end function call\n",
    "    return -1                        # Element not found"
   ]
  },
  {
   "cell_type": "markdown",
   "metadata": {},
   "source": [
    "### Sequential Search - Larger Inputs\n",
    "Although for selection sort is seemingly fast for smaller inputs, it is clear that it cannot keep up with increasing input sizes. Because sequential search checks every value of the given array, the algorithm's overall runtime increases \"linearly\" with the input size.\n",
    "\n",
    "i.e. Pretend that one check takes one second, and that we are searching for the last element in an array. If the array length is 4, it would take 4 seconds to find the last element, whereas if the array length is 86400 indices long, it would take a whole day to find the element.  \n",
    "\n",
    "Hence, although selection sort is known for its simplicity, it is unfeasible for large inputs"
   ]
  },
  {
   "cell_type": "markdown",
   "metadata": {},
   "source": [
    "Below, we have created three **sorted** lists of length 100,1000000,100000000."
   ]
  },
  {
   "cell_type": "code",
   "execution_count": 4,
   "metadata": {},
   "outputs": [],
   "source": [
    "from random import randint\n",
    "import time\n",
    "arr1 = [i for i in range(100)]\n",
    "arr2 = [i for i in range(1000000)]\n",
    "arr3 = [i for i in range(100000000)]"
   ]
  },
  {
   "cell_type": "markdown",
   "metadata": {},
   "source": [
    "To analyze the sequential search algorithm, we will check for the worst case scenario, where runtime is maximized. This is because when measuring "
   ]
  },
  {
   "cell_type": "code",
   "execution_count": 12,
   "metadata": {},
   "outputs": [
    {
     "name": "stdout",
     "output_type": "stream",
     "text": [
      "length of list:  100\n",
      "Index:  99\n",
      "Execution time: 0.00011205673217773438 seconds\n"
     ]
    }
   ],
   "source": [
    "## arr1\n",
    "print(\"length of list: \", len(arr1))\n",
    "s = time.time()\n",
    "print(\"Index: \", sequentialSearch(arr1,99))\n",
    "e = time.time()\n",
    "print('Execution time:', e-s, 'seconds')\n"
   ]
  },
  {
   "cell_type": "code",
   "execution_count": 11,
   "metadata": {},
   "outputs": [
    {
     "name": "stdout",
     "output_type": "stream",
     "text": [
      "length of list:  1000000\n",
      "Index:  999999\n",
      "Execution time: 0.056948184967041016 seconds\n"
     ]
    }
   ],
   "source": [
    "## arr1\n",
    "print(\"length of list: \", len(arr2))\n",
    "s = time.time()\n",
    "print(\"Index: \", sequentialSearch(arr2,999999))\n",
    "e = time.time()\n",
    "print('Execution time:', e-s, 'seconds')"
   ]
  },
  {
   "cell_type": "code",
   "execution_count": 10,
   "metadata": {},
   "outputs": [
    {
     "name": "stdout",
     "output_type": "stream",
     "text": [
      "length of list:  100000000\n",
      "Index:  99999999\n",
      "Execution time: 5.154277324676514 seconds\n"
     ]
    }
   ],
   "source": [
    "## arr3\n",
    "print(\"length of list: \", len(arr3))\n",
    "s = time.time()\n",
    "print(\"Index: \", sequentialSearch(arr3,99999999))\n",
    "e = time.time()\n",
    "print('Execution time:', e-s, 'seconds')"
   ]
  },
  {
   "cell_type": "markdown",
   "metadata": {},
   "source": [
    "As you can see, as the input list grows larger and larger, the overall runtime of the program increases linearly as well, resulting in a lower scalability for the sequential search algorithm."
   ]
  }
 ],
 "metadata": {
  "kernelspec": {
   "display_name": "Python 3.10.6 64-bit",
   "language": "python",
   "name": "python3"
  },
  "language_info": {
   "codemirror_mode": {
    "name": "ipython",
    "version": 3
   },
   "file_extension": ".py",
   "mimetype": "text/x-python",
   "name": "python",
   "nbconvert_exporter": "python",
   "pygments_lexer": "ipython3",
   "version": "3.10.6"
  },
  "orig_nbformat": 4,
  "vscode": {
   "interpreter": {
    "hash": "916dbcbb3f70747c44a77c7bcd40155683ae19c65e1c03b4aa3499c5328201f1"
   }
  }
 },
 "nbformat": 4,
 "nbformat_minor": 2
}
